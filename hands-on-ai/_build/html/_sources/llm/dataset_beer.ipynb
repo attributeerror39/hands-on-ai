{
 "cells": [
  {
   "cell_type": "markdown",
   "metadata": {},
   "source": [
    "# Dataset: BeerBot"
   ]
  },
  {
   "cell_type": "code",
   "execution_count": 1,
   "metadata": {},
   "outputs": [
    {
     "name": "stdout",
     "output_type": "stream",
     "text": [
      "Requirement already satisfied: beautifulsoup4 in /home/m/miniconda3/envs/ex_ai/lib/python3.12/site-packages (4.13.3)\n",
      "Requirement already satisfied: soupsieve>1.2 in /home/m/miniconda3/envs/ex_ai/lib/python3.12/site-packages (from beautifulsoup4) (2.6)\n",
      "Requirement already satisfied: typing-extensions>=4.0.0 in /home/m/miniconda3/envs/ex_ai/lib/python3.12/site-packages (from beautifulsoup4) (4.12.2)\n",
      "Note: you may need to restart the kernel to use updated packages.\n"
     ]
    }
   ],
   "source": [
    "%pip install beautifulsoup4 "
   ]
  },
  {
   "cell_type": "code",
   "execution_count": 2,
   "metadata": {},
   "outputs": [],
   "source": [
    "from bs4 import BeautifulSoup \n",
    "# Documentation for BeautifulSoup: https://www.crummy.com/software/BeautifulSoup/bs4/doc/\n",
    "import requests"
   ]
  },
  {
   "cell_type": "markdown",
   "metadata": {},
   "source": [
    "## Get the data\n",
    "\n",
    "We will use the recipes from [maischemalzundmehr.de](https://www.maischemalzundmehr.de)<br>\n",
    "We reduce the recipes to top-fermented (obergärig), because it's easier to brew.<br>\n",
    "The [search query](https://www.maischemalzundmehr.de/index.php?inhaltmitte=lr&suche_sorte=Sorte+%28egal%29&suche_maische=Maische+%28egal%29&suche_gaerung=oberg%C3%A4rig&suche_order=Sortierung+%28keine%29&suche_begriff=&suche=Suche) returns 1336 recipes. (The images are not up to date, so some numbers vary.)\n",
    "\n",
    "![maischemalzundmehr.jpg](img/maischemalzundmehr.jpg)\n",
    "\n",
    "\n",
    "### Web scraping\n",
    "\n",
    "The results are listed on 122 pages. Through the link preview we can see how we can access all pages.\n",
    "\n",
    "![pages.gif](img/pages.gif)"
   ]
  },
  {
   "cell_type": "code",
   "execution_count": 3,
   "metadata": {},
   "outputs": [
    {
     "name": "stdout",
     "output_type": "stream",
     "text": [
      "https://www.maischemalzundmehr.de/index.php?inhaltmitte=lr&seite=1&suche_gaerung=oberg%C3%A4rig\n"
     ]
    }
   ],
   "source": [
    "# url = https://www.maischemalzundmehr.de/index.php?inhaltmitte=lr&seite=2&suche_gaerung=oberg%C3%A4rig\n",
    "# We use string formatting to insert the variable {page_number} instead of the actual number.\n",
    "page_number = 1\n",
    "url_page = f\"https://www.maischemalzundmehr.de/index.php?inhaltmitte=lr&seite={page_number}&suche_gaerung=oberg%C3%A4rig\"\n",
    "print(url_page)"
   ]
  },
  {
   "cell_type": "markdown",
   "metadata": {},
   "source": [
    "Next we will extract all links of one page that lead to the recipes. Through inspection of the html code we can get an identifiyer for all links: the class \"rezeptlink\":\n",
    "\n",
    "![rezeptlink.jpg](img/rezeptlink.jpg)"
   ]
  },
  {
   "cell_type": "markdown",
   "metadata": {},
   "source": [
    "### Extract all ids from one page"
   ]
  },
  {
   "cell_type": "code",
   "execution_count": 4,
   "metadata": {},
   "outputs": [],
   "source": [
    "# Request html code of page 1:\n",
    "response = requests.get(url_page)\n",
    "\n",
    "# Read html code as BeautifulSoup object:\n",
    "soup = BeautifulSoup(response.text, 'html.parser')"
   ]
  },
  {
   "cell_type": "code",
   "execution_count": 5,
   "metadata": {},
   "outputs": [
    {
     "name": "stdout",
     "output_type": "stream",
     "text": [
      "index.php?id=2094&inhaltmitte=rezept&suche_gaerung=obergärig\n",
      "index.php?id=2093&inhaltmitte=rezept&suche_gaerung=obergärig\n",
      "index.php?id=2092&inhaltmitte=rezept&suche_gaerung=obergärig\n",
      "index.php?id=2090&inhaltmitte=rezept&suche_gaerung=obergärig\n",
      "index.php?id=2089&inhaltmitte=rezept&suche_gaerung=obergärig\n",
      "index.php?id=2088&inhaltmitte=rezept&suche_gaerung=obergärig\n",
      "index.php?id=2085&inhaltmitte=rezept&suche_gaerung=obergärig\n",
      "index.php?id=2084&inhaltmitte=rezept&suche_gaerung=obergärig\n",
      "index.php?id=2083&inhaltmitte=rezept&suche_gaerung=obergärig\n",
      "index.php?id=2082&inhaltmitte=rezept&suche_gaerung=obergärig\n",
      "index.php?id=2080&inhaltmitte=rezept&suche_gaerung=obergärig\n"
     ]
    }
   ],
   "source": [
    "# Extract all links that have the attribute class=\"rezeptlink\".\n",
    "for a in soup.find_all('a', class_=\"rezeptlink\"):\n",
    "    print(a['href'])"
   ]
  },
  {
   "cell_type": "code",
   "execution_count": 6,
   "metadata": {},
   "outputs": [
    {
     "data": {
      "text/plain": [
       "'1535'"
      ]
     },
     "execution_count": 6,
     "metadata": {},
     "output_type": "execute_result"
    }
   ],
   "source": [
    "# As we need just the id, we can drop the rest.\n",
    "link = \"index.php?id=1535&inhaltmitte=rezept&suche_gaerung=obergärig\"\n",
    "link = link[link.find('id=')+3:link.find('&')]\n",
    "link"
   ]
  },
  {
   "cell_type": "code",
   "execution_count": 7,
   "metadata": {},
   "outputs": [],
   "source": [
    "# Now we can store this in a list.\n",
    "ids = []\n",
    "for a in soup.find_all('a', class_='rezeptlink'):\n",
    "    link = a['href']\n",
    "    id_ = link[link.find('id=')+3:link.find('&')]\n",
    "    ids.append(id_)"
   ]
  },
  {
   "cell_type": "code",
   "execution_count": 8,
   "metadata": {},
   "outputs": [
    {
     "name": "stdout",
     "output_type": "stream",
     "text": [
      "['2094', '2093', '2092', '2090', '2089', '2088', '2085', '2084', '2083', '2082', '2080']\n"
     ]
    }
   ],
   "source": [
    "print(ids)"
   ]
  },
  {
   "cell_type": "code",
   "execution_count": 9,
   "metadata": {},
   "outputs": [],
   "source": [
    "# We will wrap the code above into a function.\n",
    "def get_ids(url):\n",
    "    ''' Return all ids linked on one page. '''\n",
    "    # Load html code of page:\n",
    "    response = requests.get(url)\n",
    "    soup = BeautifulSoup(response.text, 'html.parser')\n",
    "    ids_ = [] # temporary list for ids.\n",
    "    \n",
    "    for a in soup.find_all('a', class_='rezeptlink'):\n",
    "        link = a['href']\n",
    "        id_ = link[link.find('id=')+3:link.find('&')]\n",
    "        ids_.append(id_)\n",
    "        \n",
    "    return ids_"
   ]
  },
  {
   "cell_type": "markdown",
   "metadata": {},
   "source": [
    "### Loop through all pages and extract all links"
   ]
  },
  {
   "cell_type": "code",
   "execution_count": 10,
   "metadata": {},
   "outputs": [],
   "source": [
    "ids = []\n",
    "for i in range(1, 122+1):\n",
    "    page_number = i\n",
    "    url_page = f\"https://www.maischemalzundmehr.de/index.php?inhaltmitte=lr&seite={page_number}&suche_gaerung=oberg%C3%A4rig\"\n",
    "    # Get ids and add them to the list\n",
    "    ids += get_ids(url_page)"
   ]
  },
  {
   "cell_type": "code",
   "execution_count": 11,
   "metadata": {},
   "outputs": [],
   "source": [
    "# As a backup we will store all ids in a text file.\n",
    "with open('data/beer_ids.txt', 'w') as f:\n",
    "    for id_ in ids:\n",
    "        f.write(str(id_)+'\\n')"
   ]
  },
  {
   "cell_type": "markdown",
   "metadata": {},
   "source": [
    "### Normalizing data\n",
    "\n",
    "If we compare just the first three recipes, we see that all result in a different quantity of beer. In order to use the data for machine learning, we have to normalize it, thus calculate the ingredients for a fixed quantity of beer.\n",
    "\n",
    "![different_quantities.jpg](img/different_quantities.jpg)"
   ]
  },
  {
   "cell_type": "markdown",
   "metadata": {},
   "source": [
    "Luckily the website offers a function to export a recipe as JSON.<br>\n",
    "Url by default:<br>\n",
    "https://www.maischemalzundmehr.de/export_json.php?id=1544&factoraw=&factorsha=&factorhav=&factorha1=&factorha2=&factorha3=&factorha4=&factorha5=\n",
    "\n",
    "Inserting 20 instead of 44L for the Nordic Ale results in a changed URL:<br>\n",
    "https://www.maischemalzundmehr.de/export_json.php?id=1544&factoraw=20&factorsha=65&factorhav=13.2&factorha1=3.4&factorha2=13.2&factorha3=11.1&factorha4=&factorha5=\n",
    "\n",
    "Luckily it's enough to use the first parameter to receive the recipt in JSON format.<br>\n",
    "https://www.maischemalzundmehr.de/export_json.php?id=1544&factoraw=20"
   ]
  },
  {
   "cell_type": "code",
   "execution_count": 19,
   "metadata": {},
   "outputs": [],
   "source": [
    "# Download a recipe with requests.\n",
    "response = requests.get('https://www.maischemalzundmehr.de/export_json.php?id=1544&factoraw=20')\n",
    "with open('test.json', 'w', encoding='utf-8') as f:\n",
    "    f.write(response.text)"
   ]
  },
  {
   "cell_type": "markdown",
   "metadata": {},
   "source": [
    "### Download all recipes in JSON-format"
   ]
  },
  {
   "cell_type": "code",
   "execution_count": 21,
   "metadata": {},
   "outputs": [
    {
     "name": "stderr",
     "output_type": "stream",
     "text": [
      "100%|█████████████████████████████████████████████████| 1336/1336 [05:07<00:00,  4.34it/s]\n"
     ]
    }
   ],
   "source": [
    "from tqdm import tqdm  # To visualize the progress\n",
    "\n",
    "for id_ in tqdm(ids):\n",
    "    response = requests.get(f\"https://www.maischemalzundmehr.de/export_json.php?id={id_}&factoraw=20\")\n",
    "    with open(f\"data/beer_recipes/{id_.zfill(4)}'.json\", 'w', encoding='utf-8') as f:\n",
    "        f.write(response.text)"
   ]
  },
  {
   "cell_type": "markdown",
   "metadata": {},
   "source": [
    "## Create the dataset\n",
    "\n",
    "Every recipe is stored in a separate json file. We'll use this to create a JSONL file ('L' = line. Every line holds a separate JSON object instead of having all recipes in one JSON object. JSONL is useful for very large datasets (so not for this one, but we'll use it nevertheless for convenience)."
   ]
  },
  {
   "cell_type": "code",
   "execution_count": 22,
   "metadata": {},
   "outputs": [],
   "source": [
    "import os\n",
    "import json\n",
    "\n",
    "def read_json_files_from_directory(directory_path):\n",
    "    \"\"\"\n",
    "    Reads all JSON files from the specified directory and returns a list of JSON objects.\n",
    "    \"\"\"\n",
    "    json_objects = []\n",
    "    filenames = os.listdir(directory_path)\n",
    "    filenames.sort()\n",
    "    for filename in filenames:\n",
    "        if filename.endswith(\".json\"):\n",
    "            file_path = os.path.join(directory_path, filename)\n",
    "            with open(file_path, 'r', encoding='utf-8') as file:\n",
    "                json_objects.append(json.load(file))\n",
    "    return json_objects\n",
    "\n",
    "def write_jsonl_file(json_objects, output_path):\n",
    "    \"\"\"\n",
    "    Writes a list of JSON objects to a JSON Lines (JSONL) file.\n",
    "    \"\"\"\n",
    "    with open(output_path, 'w', encoding='utf-8') as file:\n",
    "        for obj in json_objects:\n",
    "            json.dump(obj, file)\n",
    "            file.write('\\n')\n",
    "            \n",
    "recipes_json = read_json_files_from_directory('data/beer_recipes')\n",
    "write_jsonl_file(recipes_json, 'data/beer.jsonl')"
   ]
  },
  {
   "cell_type": "code",
   "execution_count": 23,
   "metadata": {},
   "outputs": [],
   "source": [
    "# Create a new JSONL file\n",
    "with open('data/beer.jsonl', 'r', encoding='utf8') as f:\n",
    "    # Loop through the list of recipes\n",
    "    recipes = f.readlines()"
   ]
  },
  {
   "cell_type": "code",
   "execution_count": 24,
   "metadata": {},
   "outputs": [
    {
     "name": "stdout",
     "output_type": "stream",
     "text": [
      "{\"Rezeptquelle\": \"www.maischemalzundmehr.de\", \"ExportVersion\": \"2.0\", \"Name\": \"Alt 43\", \"Datum\": \"14.02.2011\", \"Sorte\": \"Altbier\", \"Autor\": \"muldengold\", \"Ausschlagwuerze\": 20, \"Stammwuerze\": 14.5, \"Bittere\": 25, \"Farbe\": 35, \"Alkohol\": 6, \"Kurzbeschreibung\": \"Malziges Altbier mit dezentem Hopfenaroma und -geschmack\", \"Malze\": [{\"Name\": \"M&uuml;nchner Malz\", \"Menge\": 2.91, \"Einheit\": \"kg\"}, {\"Name\": \"Pilsner Malz\", \"Menge\": 1.09, \"Einheit\": \"kg\"}, {\"Name\": \"R&ouml;stmalz\", \"Menge\": 36, \"Einheit\": \"g\"}], \"Maischform\": \"infusion\", \"Hauptguss\": 13.454545454545455, \"Einmaischtemperatur\": 50, \"Rasten\": [{\"Temperatur\": 52, \"Zeit\": 15}, {\"Temperatur\": 65, \"Zeit\": 70}, {\"Temperatur\": 78, \"Zeit\": 10}], \"Abmaischtemperatur\": 78, \"Nachguss\": 16.727272727272727, \"Kochzeit_Wuerze\": 70, \"Hopfenkochen\": [{\"Sorte\": \"Saaz\", \"Menge\": 18, \"Alpha\": 4.4, \"Zeit\": 70, \"Typ\": \"Vorderwuerze\"}, {\"Sorte\": \"Northern Brewer\", \"Menge\": 9, \"Alpha\": 10, \"Zeit\": 60, \"Typ\": \"Standard\"}, {\"Sorte\": \"Saaz\", \"Menge\": 9, \"Alpha\": 4.4, \"Zeit\": 5, \"Typ\": \"Standard\"}], \"Hefe\": \"WYEAST #1007 (German Ale)\", \"Gaertemperatur\": \"16\", \"Endvergaerungsgrad\": 74, \"Karbonisierung\": 5}\n",
      "\n",
      "{\"Rezeptquelle\": \"www.maischemalzundmehr.de\", \"ExportVersion\": \"2.0\", \"Name\": \"MB Stout\", \"Datum\": \"16.02.2011\", \"Sorte\": \"Stout\", \"Autor\": \"muldengold\", \"Ausschlagwuerze\": 20, \"Stammwuerze\": 14, \"Bittere\": 56, \"Farbe\": 100, \"Alkohol\": 5.5, \"Kurzbeschreibung\": \"Leckeres Stout. Simples aber authentisches Rezept. Mildes R&ouml;staroma und rabenschwarzer Farbe.\", \"Malze\": [{\"Name\": \"Pilsner Malz\", \"Menge\": 3.82, \"Einheit\": \"kg\"}, {\"Name\": \"R&ouml;stgerste\", \"Menge\": 220, \"Einheit\": \"g\"}, {\"Name\": \"R&ouml;stmalz\", \"Menge\": 150, \"Einheit\": \"g\"}], \"Maischform\": \"infusion\", \"Hauptguss\": 14.545454545454547, \"Einmaischtemperatur\": 50, \"Rasten\": [{\"Temperatur\": 67, \"Zeit\": 90}, {\"Temperatur\": 78, \"Zeit\": 10}], \"Abmaischtemperatur\": 78, \"Nachguss\": 14.90909090909091, \"Kochzeit_Wuerze\": 90, \"Hopfenkochen\": [{\"Sorte\": \"Northern Brewer\", \"Menge\": 44, \"Alpha\": 10, \"Zeit\": 90, \"Typ\": \"Standard\"}], \"Hefe\": \"Wyeast 1084 Irish Ale\", \"Gaertemperatur\": \"16\", \"Anmerkung_Autor\": \"Urspr&uuml;nglich waren 1 kg R&ouml;stgerste geplant. Habe die Gerste (1kg) selbst ger&ouml;stet, was eine ziemliche Rauchentwicklung in der K&uuml;che verursachte. Am Ende waren nur 600 g &uuml;brig. Den Rest habe ich durch R&ouml;stmalz (ca. 1200 EBC) ersetzt. Das Jungbier hat bei 8-15&deg;C f&uuml;r ca. 2 Monate im Nachg&auml;rfass gereift. Das Ergebnis war echt lecker. Das R&ouml;staroma war deutlich warnehmbar ohne jedoch aufdringlich zu sein. R&ouml;stmalz und -gerste wurden von Beginn an mit eingemaischt. Die Bittere von 56 mag hoch erscheinen - kam jedoch sehr ausgeglichen r&uuml;ber. \"}\n",
      "\n",
      "{\"Rezeptquelle\": \"www.maischemalzundmehr.de\", \"ExportVersion\": \"2.0\", \"Name\": \"Ur-Alt, Typ II\", \"Datum\": \"22.03.2011\", \"Sorte\": \"Altbier\", \"Autor\": \"tauroplu\", \"Ausschlagwuerze\": 20, \"Stammwuerze\": 13, \"Bittere\": 35, \"Farbe\": 45, \"Alkohol\": 4.7, \"Kurzbeschreibung\": \"S\\u00fcffiges Altbier nach D\\u00fcsseldorfer Art mit feiner R\\u00f6stnote\", \"Malze\": [{\"Name\": \"M\\u00fcnchner Malz\", \"Menge\": 2.5, \"Einheit\": \"kg\"}, {\"Name\": \"Wiener Malz\", \"Menge\": 1.17, \"Einheit\": \"kg\"}, {\"Name\": \"Melanoidinmalz\", \"Menge\": 250, \"Einheit\": \"g\"}, {\"Name\": \"Caram\\u00fcnch II\", \"Menge\": 250, \"Einheit\": \"g\"}, {\"Name\": \"Carafa spezial II\", \"Menge\": 42, \"Einheit\": \"g\"}], \"Maischform\": \"infusion\", \"Hauptguss\": 12.5, \"Einmaischtemperatur\": 60, \"Rasten\": [{\"Temperatur\": 57, \"Zeit\": 10}, {\"Temperatur\": 63, \"Zeit\": 60}, {\"Temperatur\": 73, \"Zeit\": 20}], \"Abmaischtemperatur\": 78, \"Nachguss\": 15, \"Kochzeit_Wuerze\": 90, \"Hopfenkochen\": [{\"Sorte\": \"Spalter Select\", \"Menge\": 22, \"Alpha\": 5.3, \"Zeit\": 90, \"Typ\": \"Vorderwuerze\"}, {\"Sorte\": \"Tettnanger\", \"Menge\": 24, \"Alpha\": 6, \"Zeit\": 90, \"Typ\": \"Standard\"}, {\"Sorte\": \"Magnum\", \"Menge\": 4, \"Alpha\": 15, \"Zeit\": 70, \"Typ\": \"Standard\"}], \"Hefe\": \"Brewferm TOP\", \"Gaertemperatur\": \"20\", \"Endvergaerungsgrad\": 69, \"Anmerkung_Autor\": \"Das R\\u00f6stmalz zugeben, wenn die Maltoserast beendet ist.\\r\\nTyp II hat, bedingt durch die niedrig verg\\u00e4rende Hefe, weniger Alk. und ist noch s\\u00fcffiger als Typ I\"}\n",
      "\n"
     ]
    }
   ],
   "source": [
    "for recipe in recipes[:3]:\n",
    "    print(recipe)"
   ]
  },
  {
   "cell_type": "markdown",
   "metadata": {},
   "source": [
    "### Conversation"
   ]
  },
  {
   "cell_type": "code",
   "execution_count": 25,
   "metadata": {},
   "outputs": [],
   "source": [
    "# We'll use this function from the \n",
    "def str_to_dict(user, assistant):\n",
    "    # create a list with the entries as dictionaries\n",
    "    conversation_data = [{'role':'user', 'content':user}, {'role':'assistant', 'content':assistant}]\n",
    "    # create a dictionary with key 'conversations' and add the list as value\n",
    "    dictionary = {'conversations':conversation_data}\n",
    "    return dictionary\n",
    "\n",
    "def extract_field(json_string, field):\n",
    "    \"\"\"\n",
    "    Extracts the value for a field from a JSON-formatted string.\n",
    "\n",
    "    :param json_string: A string containing JSON data.\n",
    "    :return: The value of the field, or None if the field does not exist.\n",
    "    \"\"\"\n",
    "    try:\n",
    "        # Parse the JSON string into a Python dictionary\n",
    "        data = json.loads(json_string)\n",
    "\n",
    "        # Extract the value for the \"kurzbeschreibung\" field\n",
    "        result = data.get(field)\n",
    "\n",
    "        return result\n",
    "    except json.JSONDecodeError:\n",
    "        # Handle the case where the JSON string is invalid\n",
    "        print(\"Invalid JSON string\")\n",
    "        return None\n",
    "\n",
    "\n",
    "dataset = []\n",
    "\n",
    "with open('data/beer.jsonl', 'r', encoding='utf8') as f:\n",
    "    data = f.readlines()\n",
    "    \n",
    "for sample in data:\n",
    "    # Extract the user content\n",
    "    user = extract_field(sample, 'Kurzbeschreibung')\n",
    "    if user is not None:\n",
    "        # The answer of the assistant will be the whole JSON object\n",
    "        dict_entry = str_to_dict(user, sample) \n",
    "        dataset.append(dict_entry)"
   ]
  },
  {
   "cell_type": "code",
   "execution_count": 26,
   "metadata": {},
   "outputs": [
    {
     "data": {
      "text/plain": [
       "1297"
      ]
     },
     "execution_count": 26,
     "metadata": {},
     "output_type": "execute_result"
    }
   ],
   "source": [
    "len(dataset)"
   ]
  },
  {
   "cell_type": "code",
   "execution_count": 27,
   "metadata": {},
   "outputs": [
    {
     "data": {
      "text/plain": [
       "{'conversations': [{'role': 'user',\n",
       "   'content': 'Malziges Altbier mit dezentem Hopfenaroma und -geschmack'},\n",
       "  {'role': 'assistant',\n",
       "   'content': '{\"Rezeptquelle\": \"www.maischemalzundmehr.de\", \"ExportVersion\": \"2.0\", \"Name\": \"Alt 43\", \"Datum\": \"14.02.2011\", \"Sorte\": \"Altbier\", \"Autor\": \"muldengold\", \"Ausschlagwuerze\": 20, \"Stammwuerze\": 14.5, \"Bittere\": 25, \"Farbe\": 35, \"Alkohol\": 6, \"Kurzbeschreibung\": \"Malziges Altbier mit dezentem Hopfenaroma und -geschmack\", \"Malze\": [{\"Name\": \"M&uuml;nchner Malz\", \"Menge\": 2.91, \"Einheit\": \"kg\"}, {\"Name\": \"Pilsner Malz\", \"Menge\": 1.09, \"Einheit\": \"kg\"}, {\"Name\": \"R&ouml;stmalz\", \"Menge\": 36, \"Einheit\": \"g\"}], \"Maischform\": \"infusion\", \"Hauptguss\": 13.454545454545455, \"Einmaischtemperatur\": 50, \"Rasten\": [{\"Temperatur\": 52, \"Zeit\": 15}, {\"Temperatur\": 65, \"Zeit\": 70}, {\"Temperatur\": 78, \"Zeit\": 10}], \"Abmaischtemperatur\": 78, \"Nachguss\": 16.727272727272727, \"Kochzeit_Wuerze\": 70, \"Hopfenkochen\": [{\"Sorte\": \"Saaz\", \"Menge\": 18, \"Alpha\": 4.4, \"Zeit\": 70, \"Typ\": \"Vorderwuerze\"}, {\"Sorte\": \"Northern Brewer\", \"Menge\": 9, \"Alpha\": 10, \"Zeit\": 60, \"Typ\": \"Standard\"}, {\"Sorte\": \"Saaz\", \"Menge\": 9, \"Alpha\": 4.4, \"Zeit\": 5, \"Typ\": \"Standard\"}], \"Hefe\": \"WYEAST #1007 (German Ale)\", \"Gaertemperatur\": \"16\", \"Endvergaerungsgrad\": 74, \"Karbonisierung\": 5}\\n'}]}"
      ]
     },
     "execution_count": 27,
     "metadata": {},
     "output_type": "execute_result"
    }
   ],
   "source": [
    "dataset[0]"
   ]
  },
  {
   "cell_type": "markdown",
   "metadata": {},
   "source": [
    "## Save the dataset"
   ]
  },
  {
   "cell_type": "code",
   "execution_count": 31,
   "metadata": {},
   "outputs": [],
   "source": [
    "write_jsonl_file(dataset, 'data/beer_conversations.jsonl')"
   ]
  },
  {
   "cell_type": "markdown",
   "metadata": {},
   "source": [
    "## Load the dataset"
   ]
  },
  {
   "cell_type": "code",
   "execution_count": 33,
   "metadata": {},
   "outputs": [],
   "source": [
    "from datasets import load_dataset\n",
    "\n",
    "dataset = load_dataset('json', data_files='data/beer_conversations.jsonl', split='train')"
   ]
  },
  {
   "cell_type": "code",
   "execution_count": 34,
   "metadata": {},
   "outputs": [
    {
     "data": {
      "text/plain": [
       "{'conversations': [[{'role': 'user',\n",
       "    'content': 'Malziges Altbier mit dezentem Hopfenaroma und -geschmack'},\n",
       "   {'role': 'assistant',\n",
       "    'content': '{\"Rezeptquelle\": \"www.maischemalzundmehr.de\", \"ExportVersion\": \"2.0\", \"Name\": \"Alt 43\", \"Datum\": \"14.02.2011\", \"Sorte\": \"Altbier\", \"Autor\": \"muldengold\", \"Ausschlagwuerze\": 20, \"Stammwuerze\": 14.5, \"Bittere\": 25, \"Farbe\": 35, \"Alkohol\": 6, \"Kurzbeschreibung\": \"Malziges Altbier mit dezentem Hopfenaroma und -geschmack\", \"Malze\": [{\"Name\": \"M&uuml;nchner Malz\", \"Menge\": 2.91, \"Einheit\": \"kg\"}, {\"Name\": \"Pilsner Malz\", \"Menge\": 1.09, \"Einheit\": \"kg\"}, {\"Name\": \"R&ouml;stmalz\", \"Menge\": 36, \"Einheit\": \"g\"}], \"Maischform\": \"infusion\", \"Hauptguss\": 13.454545454545455, \"Einmaischtemperatur\": 50, \"Rasten\": [{\"Temperatur\": 52, \"Zeit\": 15}, {\"Temperatur\": 65, \"Zeit\": 70}, {\"Temperatur\": 78, \"Zeit\": 10}], \"Abmaischtemperatur\": 78, \"Nachguss\": 16.727272727272727, \"Kochzeit_Wuerze\": 70, \"Hopfenkochen\": [{\"Sorte\": \"Saaz\", \"Menge\": 18, \"Alpha\": 4.4, \"Zeit\": 70, \"Typ\": \"Vorderwuerze\"}, {\"Sorte\": \"Northern Brewer\", \"Menge\": 9, \"Alpha\": 10, \"Zeit\": 60, \"Typ\": \"Standard\"}, {\"Sorte\": \"Saaz\", \"Menge\": 9, \"Alpha\": 4.4, \"Zeit\": 5, \"Typ\": \"Standard\"}], \"Hefe\": \"WYEAST #1007 (German Ale)\", \"Gaertemperatur\": \"16\", \"Endvergaerungsgrad\": 74, \"Karbonisierung\": 5}\\n'}],\n",
       "  [{'role': 'user',\n",
       "    'content': 'Leckeres Stout. Simples aber authentisches Rezept. Mildes R&ouml;staroma und rabenschwarzer Farbe.'},\n",
       "   {'role': 'assistant',\n",
       "    'content': '{\"Rezeptquelle\": \"www.maischemalzundmehr.de\", \"ExportVersion\": \"2.0\", \"Name\": \"MB Stout\", \"Datum\": \"16.02.2011\", \"Sorte\": \"Stout\", \"Autor\": \"muldengold\", \"Ausschlagwuerze\": 20, \"Stammwuerze\": 14, \"Bittere\": 56, \"Farbe\": 100, \"Alkohol\": 5.5, \"Kurzbeschreibung\": \"Leckeres Stout. Simples aber authentisches Rezept. Mildes R&ouml;staroma und rabenschwarzer Farbe.\", \"Malze\": [{\"Name\": \"Pilsner Malz\", \"Menge\": 3.82, \"Einheit\": \"kg\"}, {\"Name\": \"R&ouml;stgerste\", \"Menge\": 220, \"Einheit\": \"g\"}, {\"Name\": \"R&ouml;stmalz\", \"Menge\": 150, \"Einheit\": \"g\"}], \"Maischform\": \"infusion\", \"Hauptguss\": 14.545454545454547, \"Einmaischtemperatur\": 50, \"Rasten\": [{\"Temperatur\": 67, \"Zeit\": 90}, {\"Temperatur\": 78, \"Zeit\": 10}], \"Abmaischtemperatur\": 78, \"Nachguss\": 14.90909090909091, \"Kochzeit_Wuerze\": 90, \"Hopfenkochen\": [{\"Sorte\": \"Northern Brewer\", \"Menge\": 44, \"Alpha\": 10, \"Zeit\": 90, \"Typ\": \"Standard\"}], \"Hefe\": \"Wyeast 1084 Irish Ale\", \"Gaertemperatur\": \"16\", \"Anmerkung_Autor\": \"Urspr&uuml;nglich waren 1 kg R&ouml;stgerste geplant. Habe die Gerste (1kg) selbst ger&ouml;stet, was eine ziemliche Rauchentwicklung in der K&uuml;che verursachte. Am Ende waren nur 600 g &uuml;brig. Den Rest habe ich durch R&ouml;stmalz (ca. 1200 EBC) ersetzt. Das Jungbier hat bei 8-15&deg;C f&uuml;r ca. 2 Monate im Nachg&auml;rfass gereift. Das Ergebnis war echt lecker. Das R&ouml;staroma war deutlich warnehmbar ohne jedoch aufdringlich zu sein. R&ouml;stmalz und -gerste wurden von Beginn an mit eingemaischt. Die Bittere von 56 mag hoch erscheinen - kam jedoch sehr ausgeglichen r&uuml;ber. \"}\\n'}],\n",
       "  [{'role': 'user',\n",
       "    'content': 'Süffiges Altbier nach Düsseldorfer Art mit feiner Röstnote'},\n",
       "   {'role': 'assistant',\n",
       "    'content': '{\"Rezeptquelle\": \"www.maischemalzundmehr.de\", \"ExportVersion\": \"2.0\", \"Name\": \"Ur-Alt, Typ II\", \"Datum\": \"22.03.2011\", \"Sorte\": \"Altbier\", \"Autor\": \"tauroplu\", \"Ausschlagwuerze\": 20, \"Stammwuerze\": 13, \"Bittere\": 35, \"Farbe\": 45, \"Alkohol\": 4.7, \"Kurzbeschreibung\": \"S\\\\u00fcffiges Altbier nach D\\\\u00fcsseldorfer Art mit feiner R\\\\u00f6stnote\", \"Malze\": [{\"Name\": \"M\\\\u00fcnchner Malz\", \"Menge\": 2.5, \"Einheit\": \"kg\"}, {\"Name\": \"Wiener Malz\", \"Menge\": 1.17, \"Einheit\": \"kg\"}, {\"Name\": \"Melanoidinmalz\", \"Menge\": 250, \"Einheit\": \"g\"}, {\"Name\": \"Caram\\\\u00fcnch II\", \"Menge\": 250, \"Einheit\": \"g\"}, {\"Name\": \"Carafa spezial II\", \"Menge\": 42, \"Einheit\": \"g\"}], \"Maischform\": \"infusion\", \"Hauptguss\": 12.5, \"Einmaischtemperatur\": 60, \"Rasten\": [{\"Temperatur\": 57, \"Zeit\": 10}, {\"Temperatur\": 63, \"Zeit\": 60}, {\"Temperatur\": 73, \"Zeit\": 20}], \"Abmaischtemperatur\": 78, \"Nachguss\": 15, \"Kochzeit_Wuerze\": 90, \"Hopfenkochen\": [{\"Sorte\": \"Spalter Select\", \"Menge\": 22, \"Alpha\": 5.3, \"Zeit\": 90, \"Typ\": \"Vorderwuerze\"}, {\"Sorte\": \"Tettnanger\", \"Menge\": 24, \"Alpha\": 6, \"Zeit\": 90, \"Typ\": \"Standard\"}, {\"Sorte\": \"Magnum\", \"Menge\": 4, \"Alpha\": 15, \"Zeit\": 70, \"Typ\": \"Standard\"}], \"Hefe\": \"Brewferm TOP\", \"Gaertemperatur\": \"20\", \"Endvergaerungsgrad\": 69, \"Anmerkung_Autor\": \"Das R\\\\u00f6stmalz zugeben, wenn die Maltoserast beendet ist.\\\\r\\\\nTyp II hat, bedingt durch die niedrig verg\\\\u00e4rende Hefe, weniger Alk. und ist noch s\\\\u00fcffiger als Typ I\"}\\n'}]]}"
      ]
     },
     "execution_count": 34,
     "metadata": {},
     "output_type": "execute_result"
    }
   ],
   "source": [
    "dataset[:3]"
   ]
  }
 ],
 "metadata": {
  "kernelspec": {
   "display_name": "Python 3 (ipykernel)",
   "language": "python",
   "name": "python3"
  },
  "language_info": {
   "codemirror_mode": {
    "name": "ipython",
    "version": 3
   },
   "file_extension": ".py",
   "mimetype": "text/x-python",
   "name": "python",
   "nbconvert_exporter": "python",
   "pygments_lexer": "ipython3",
   "version": "3.12.9"
  }
 },
 "nbformat": 4,
 "nbformat_minor": 4
}
